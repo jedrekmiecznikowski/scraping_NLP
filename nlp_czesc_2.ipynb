{
 "cells": [
  {
   "cell_type": "markdown",
   "metadata": {},
   "source": [
    "# Part 2 of serious processing "
   ]
  },
  {
   "cell_type": "markdown",
   "metadata": {},
   "source": [
    "In this chapter\n",
    "* import previous database\n",
    "* split to sentence or paragraph level\n",
    "* compute sentiment with sentimentpl\n",
    "* how to train on own data? "
   ]
  },
  {
   "cell_type": "code",
   "execution_count": null,
   "metadata": {},
   "outputs": [],
   "source": [
    "import numpy as np\n",
    "import pandas as pd\n",
    "import time\n",
    "import requests\n",
    "import re\n",
    "from bs4 import BeautifulSoup\n",
    "import newspaper\n",
    "from selenium import webdriver\n",
    "from sentimentpl.models import SentimentPLModel\n",
    "import spacy\n",
    "from sentence_splitter import SentenceSplitter, split_text_into_sentences\n",
    "import random\n",
    "model = SentimentPLModel(from_pretrained='latest')\n"
   ]
  },
  {
   "cell_type": "code",
   "execution_count": null,
   "metadata": {},
   "outputs": [],
   "source": [
    "from IPython.core.interactiveshell import InteractiveShell\n",
    "InteractiveShell.ast_node_interactivity = \"all\""
   ]
  },
  {
   "cell_type": "code",
   "execution_count": null,
   "metadata": {},
   "outputs": [],
   "source": [
    "df_corona = pd.read_excel(\"corona_gucci_20210523.xlsx\")"
   ]
  },
  {
   "cell_type": "code",
   "execution_count": null,
   "metadata": {},
   "outputs": [],
   "source": [
    "df_corona = df_corona.reset_index()"
   ]
  },
  {
   "cell_type": "markdown",
   "metadata": {},
   "source": [
    "**Tutaj szybki sentence splitting na podstawie pakietu sentence_splitter**"
   ]
  },
  {
   "cell_type": "code",
   "execution_count": null,
   "metadata": {},
   "outputs": [],
   "source": [
    "text = df_corona['Clean_text'][1]\n",
    "splitter = SentenceSplitter(language = 'pl')\n",
    "trash = \"–\"\n",
    "text = re.sub(trash, \"\", text)\n",
    "text = splitter.split(text=text)"
   ]
  },
  {
   "cell_type": "markdown",
   "metadata": {},
   "source": [
    "**Tutaj funkcje do liczenia sentymentu na wszystkich danych + implementacja**"
   ]
  },
  {
   "cell_type": "code",
   "execution_count": null,
   "metadata": {},
   "outputs": [],
   "source": [
    "def sentiment_sentence(sent):\n",
    "    return (model(sent).item())\n",
    "def sentiment_article(article):\n",
    "    if random.randint(1,10) > 5:\n",
    "        print(\"surprise! still working\")\n",
    "    trash = \"–\"\n",
    "    article = re.sub(trash, \"\", article)\n",
    "    article = splitter.split(text=article)\n",
    "    return np.mean(list(map(sentiment_sentence, article)))\n"
   ]
  },
  {
   "cell_type": "code",
   "execution_count": null,
   "metadata": {},
   "outputs": [],
   "source": [
    "start = time.process_time()\n",
    "all_sentiment = df_corona['Clean_text'].map(sentiment_article)\n",
    "end = time.process_time()\n",
    "elapsed = start - end\n",
    "elapsed"
   ]
  },
  {
   "cell_type": "code",
   "execution_count": null,
   "metadata": {},
   "outputs": [],
   "source": [
    "df_corona['Mean_sentiment'] = all_sentiment"
   ]
  },
  {
   "cell_type": "code",
   "execution_count": null,
   "metadata": {},
   "outputs": [],
   "source": [
    "df_corona.to_excel(\"corona_gucci_20210523.xlsx\")"
   ]
  },
  {
   "cell_type": "markdown",
   "metadata": {},
   "source": [
    "**Stopwords**"
   ]
  },
  {
   "cell_type": "code",
   "execution_count": null,
   "metadata": {},
   "outputs": [],
   "source": [
    "url = 'https://raw.githubusercontent.com/bieli/stopwords/master/polish.stopwords.txt'\n",
    "page = requests.get(url)\n",
    "stopwords = set((page.text).split(\"\\n\"))\n",
    "\n"
   ]
  },
  {
   "cell_type": "code",
   "execution_count": null,
   "metadata": {},
   "outputs": [],
   "source": [
    "full_text = ' '.join(df_corona['Clean_text']).lower()"
   ]
  },
  {
   "cell_type": "code",
   "execution_count": null,
   "metadata": {},
   "outputs": [],
   "source": [
    "from collections import Counter\n"
   ]
  },
  {
   "cell_type": "code",
   "execution_count": null,
   "metadata": {},
   "outputs": [],
   "source": [
    "split_text = [w for w in full_text.split() if w not in stopwords]"
   ]
  },
  {
   "cell_type": "code",
   "execution_count": null,
   "metadata": {},
   "outputs": [],
   "source": [
    "Counter(split_text).most_common(50)"
   ]
  },
  {
   "cell_type": "code",
   "execution_count": 143,
   "metadata": {},
   "outputs": [
    {
     "data": {
      "text/plain": [
       "0      -0.008995\n",
       "1      -0.042768\n",
       "2      -0.046112\n",
       "3      -0.013686\n",
       "4      -0.089021\n",
       "          ...   \n",
       "1883   -0.019292\n",
       "1884    0.118142\n",
       "1885   -0.008995\n",
       "1886   -0.026126\n",
       "1887   -0.020266\n",
       "Name: Mean_sentiment, Length: 1888, dtype: float64"
      ]
     },
     "execution_count": 143,
     "metadata": {},
     "output_type": "execute_result"
    }
   ],
   "source": []
  }
 ],
 "metadata": {
  "kernelspec": {
   "display_name": "Python 3",
   "language": "python",
   "name": "python3"
  },
  "language_info": {
   "codemirror_mode": {
    "name": "ipython",
    "version": 3
   },
   "file_extension": ".py",
   "mimetype": "text/x-python",
   "name": "python",
   "nbconvert_exporter": "python",
   "pygments_lexer": "ipython3",
   "version": "3.8.3"
  }
 },
 "nbformat": 4,
 "nbformat_minor": 4
}
